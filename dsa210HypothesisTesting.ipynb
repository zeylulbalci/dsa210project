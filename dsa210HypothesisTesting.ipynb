{
  "nbformat": 4,
  "nbformat_minor": 0,
  "metadata": {
    "colab": {
      "provenance": [],
      "authorship_tag": "ABX9TyPqzACS0CvTUHGOyACv0xY1",
      "include_colab_link": true
    },
    "kernelspec": {
      "name": "python3",
      "display_name": "Python 3"
    },
    "language_info": {
      "name": "python"
    }
  },
  "cells": [
    {
      "cell_type": "markdown",
      "metadata": {
        "id": "view-in-github",
        "colab_type": "text"
      },
      "source": [
        "<a href=\"https://colab.research.google.com/github/zeylulbalci/dsa210project/blob/main/dsa210HypothesisTesting.ipynb\" target=\"_parent\"><img src=\"https://colab.research.google.com/assets/colab-badge.svg\" alt=\"Open In Colab\"/></a>"
      ]
    },
    {
      "cell_type": "markdown",
      "source": [
        "# 1.Do movies with higher IMDb ratings earn more revenue on average?\n",
        "\n",
        "**Null Hypothesis (H₀):** There is no difference in average box office revenue between high-rated and low-rated movies.\n",
        "\n",
        "**Alternative Hypothesis (H₁):** Movies with higher IMDb ratings earn significantly more at the box office.\n",
        "\n",
        "**Test Type:** Independent Samples T-test\n",
        "\n",
        "# 2.Do movies with more YouTube likes earn more revenue?\n",
        "\n",
        "**Null Hypothesis (H₀):** The average revenue of movies with high like counts on YouTube is equal to those with lower like counts.\n",
        "\n",
        "**Alternative Hypothesis (H₁):** Movies with more YouTube likes tend to earn higher box office revenue.\n",
        "\n",
        "**Test Type:** Independent Samples T-test\n",
        "\n",
        "# 3. Is there a significant correlation between IMDb vote count and box office revenue?\n",
        "\n",
        "**Null Hypothesis (H₀):** There is no correlation between the number of IMDb votes and gross revenue.\n",
        "\n",
        "**Alternative Hypothesis (H₁):** There is a positive correlation between IMDb vote count and gross revenue.\n",
        "\n",
        "**Test Type:** Pearson Correlation Coefficient\n",
        "\n"
      ],
      "metadata": {
        "id": "1lWCt_2tiF14"
      }
    },
    {
      "cell_type": "code",
      "source": [
        "#Import necessary libraries\n",
        "import pandas as pd\n",
        "from scipy.stats import ttest_ind\n",
        "import matplotlib.pyplot as plt\n",
        "import seaborn as sns\n"
      ],
      "metadata": {
        "id": "Jj2Rlou1f7l5"
      },
      "execution_count": 2,
      "outputs": []
    },
    {
      "cell_type": "code",
      "source": [
        "#Load final dataset (which includes IMDb rating and gross revenue)\n",
        "df = pd.read_csv(\"IMDb___Gross_Dataset.csv\")\n"
      ],
      "metadata": {
        "id": "f2PNyJQQf9n3"
      },
      "execution_count": 3,
      "outputs": []
    },
    {
      "cell_type": "code",
      "source": [
        "#Convert Gross column from string to numeric if not already cleaned\n",
        "df['Gross'] = df['Gross'].astype(str).str.replace(\".\", \"\", regex=False).str.replace(\",\", \".\", regex=False)\n",
        "df['Gross'] = pd.to_numeric(df['Gross'], errors=\"coerce\")\n"
      ],
      "metadata": {
        "id": "3OQ6MVArf_gI"
      },
      "execution_count": 4,
      "outputs": []
    },
    {
      "cell_type": "markdown",
      "source": [
        "# Hypothesis Test 1: IMDb Rating vs Box Office Revenue\n",
        "The goal of this test was to investigate whether movies with higher IMDb ratings earn more revenue than those with lower ratings.\n",
        "\n",
        "To do this, I split the dataset into two groups based on the median IMDb rating:\n",
        "\n",
        "One group contains movies with ratings above the median (High Rating)\n",
        "\n",
        "The other group includes movies with ratings at or below the median (Low Rating)\n",
        "\n",
        "An independent samples t-test was conducted to compare the average box office revenue of the two groups.\n",
        "\n",
        "Results:\n",
        "T-statistic: 2.2402\n",
        "\n",
        "P-value: 0.0261\n",
        "\n",
        "Since the p-value is less than 0.05, the result is statistically significant.\n",
        "This means that I reject the null hypothesis (H₀)"
      ],
      "metadata": {
        "id": "XB6f_G__goHp"
      }
    },
    {
      "cell_type": "code",
      "source": [
        "#Separate films into two groups based on IMDb rating (above and below median)\n",
        "rating_median = df['IMDb_Rating'].median()\n",
        "\n",
        "high_rating = df[df['IMDb_Rating'] > rating_median]['Gross'].dropna()\n",
        "low_rating = df[df['IMDb_Rating'] <= rating_median]['Gross'].dropna()\n"
      ],
      "metadata": {
        "id": "61miRH5kgCV8"
      },
      "execution_count": 5,
      "outputs": []
    },
    {
      "cell_type": "code",
      "source": [
        "# 5. Perform Independent Samples T-Test to compare group means\n",
        "t_stat, p_value = ttest_ind(high_rating, low_rating, equal_var=False)\n",
        "\n",
        "print(f\"T-statistic: {t_stat:.4f}\")\n",
        "print(f\"P-value: {p_value:.4f}\")\n",
        "\n",
        "if p_value < 0.05:\n",
        "    print(\"Result: Reject H0 → IMDb rating is significantly related to higher revenue.\")\n",
        "else:\n",
        "    print(\"Result: Fail to reject H0 → No significant difference in revenue based on IMDb rating.\")\n"
      ],
      "metadata": {
        "colab": {
          "base_uri": "https://localhost:8080/"
        },
        "id": "sUWgnjzpgEzc",
        "outputId": "aac526e6-cd8d-4ad5-f5d9-ca409fb631dc"
      },
      "execution_count": 6,
      "outputs": [
        {
          "output_type": "stream",
          "name": "stdout",
          "text": [
            "T-statistic: 2.2402\n",
            "P-value: 0.0261\n",
            "Result: Reject H0 → IMDb rating is significantly related to higher revenue.\n"
          ]
        }
      ]
    },
    {
      "cell_type": "code",
      "source": [
        "# Visualization of the distributions of revenue by rating group\n",
        "sns.boxplot(x=['High Rating'] * len(high_rating) + ['Low Rating'] * len(low_rating),\n",
        "            y=pd.concat([high_rating, low_rating], ignore_index=True))\n",
        "plt.title(\"Box Office Gross by IMDb Rating Group\")\n",
        "plt.ylabel(\"Gross Revenue ($)\")\n",
        "plt.show()\n"
      ],
      "metadata": {
        "colab": {
          "base_uri": "https://localhost:8080/",
          "height": 452
        },
        "id": "tjXXh9RggHao",
        "outputId": "3d47029f-ea06-4f0a-a10c-dc602f50786d"
      },
      "execution_count": 7,
      "outputs": [
        {
          "output_type": "display_data",
          "data": {
            "text/plain": [
              "<Figure size 640x480 with 1 Axes>"
            ],
            "image/png": "[encoded data removed]"
          },
          "metadata": {}
        }
      ]
    },
    {
      "cell_type": "markdown",
      "source": [
        "# Hypothesis Test 2: YouTube Likes vs Box Office Revenue\n",
        "The purpose of this test was to examine whether movies with a higher number of YouTube likes on their trailers tend to generate more revenue at the box office.\n",
        "\n",
        "To assess this, I divided the dataset into two groups based on the median number of YouTube likes:\n",
        "\n",
        "The High Likes group includes movies whose trailer received more likes than the median.\n",
        "\n",
        "The Low Likes group includes movies with like counts equal to or below the median.\n",
        "\n",
        "An independent samples t-test was conducted to compare the average gross revenue between these two groups.\n",
        "\n",
        "Results:\n",
        "T-statistic: 6.8796\n",
        "\n",
        "P-value: 0.0000\n",
        "\n",
        "Decision: Reject H₀ → YouTube likes are significantly associated with higher revenue.\n",
        "\n",
        "The results provide strong evidence that movies with more likes on their trailers tend to earn significantly more at the box office. The extremely low p-value (well below 0.05) suggests that this relationship is not due to random chance. This supports the idea that online engagement on YouTube — in the form of likes — can serve as a strong indicator of commercial success.\n",
        "\n",
        "Studios might consider actively promoting trailers and encouraging viewer engagement as part of their marketing strategy. However, further investigation would be needed to determine whether likes cause revenue increases, or whether both are influenced by other factors."
      ],
      "metadata": {
        "id": "CN1bF-tZjGi-"
      }
    },
    {
      "cell_type": "code",
      "source": [
        "from scipy.stats import ttest_ind\n",
        "\n",
        "# Calculate median of Likes to define 'high like' group\n",
        "likes_median = df['Likes'].median()\n",
        "\n",
        "# Split into two groups\n",
        "high_likes = df[df['Likes'] > likes_median]['Gross'].dropna()\n",
        "low_likes = df[df['Likes'] <= likes_median]['Gross'].dropna()\n",
        "\n",
        "# T-Test\n",
        "t_stat, p_value = ttest_ind(high_likes, low_likes, equal_var=False)\n",
        "\n",
        "print(f\"T-statistic: {t_stat:.4f}\")\n",
        "print(f\"P-value: {p_value:.4f}\")\n",
        "\n",
        "if p_value < 0.05:\n",
        "    print(\"Result: Reject H0 → YouTube likes are significantly associated with higher revenue.\")\n",
        "else:\n",
        "    print(\"Result: Fail to reject H0 → No significant relationship between likes and revenue.\")\n"
      ],
      "metadata": {
        "colab": {
          "base_uri": "https://localhost:8080/"
        },
        "id": "lLdGpt9Shj21",
        "outputId": "68bd4e20-d207-4532-9d2f-b4910a44b314"
      },
      "execution_count": 8,
      "outputs": [
        {
          "output_type": "stream",
          "name": "stdout",
          "text": [
            "T-statistic: 6.8796\n",
            "P-value: 0.0000\n",
            "Result: Reject H0 → YouTube likes are significantly associated with higher revenue.\n"
          ]
        }
      ]
    },
    {
      "cell_type": "code",
      "source": [
        "import matplotlib.pyplot as plt\n",
        "import seaborn as sns\n",
        "\n",
        "# Boxplot for likes vs gross\n",
        "sns.boxplot(x=['High Likes'] * len(high_likes) + ['Low Likes'] * len(low_likes),\n",
        "            y=pd.concat([high_likes, low_likes], ignore_index=True))\n",
        "\n",
        "plt.title(\"Box Office Gross by YouTube Likes Group\")\n",
        "plt.ylabel(\"Gross Revenue ($)\")\n",
        "plt.grid(True)\n",
        "plt.show()\n"
      ],
      "metadata": {
        "colab": {
          "base_uri": "https://localhost:8080/",
          "height": 452
        },
        "id": "NlLt6zYUjBls",
        "outputId": "8ef22b9e-1c3b-41c2-84ed-751ef0b8a4e6"
      },
      "execution_count": 9,
      "outputs": [
        {
          "output_type": "display_data",
          "data": {
            "text/plain": [
              "<Figure size 640x480 with 1 Axes>"
            ],
            "image/png": "[encoded data removed]"
          },
          "metadata": {}
        }
      ]
    },
    {
      "cell_type": "markdown",
      "source": [
        "# Hypothesis Test 3: IMDb Vote Count vs Box Office Revenue\n",
        "The objective of this test was to determine whether movies with higher numbers of IMDb votes generate more box office revenue than those with fewer votes.\n",
        "\n",
        "To perform this analysis, I first calculated the median number of votes across all movies. Then, I divided the dataset into two groups:\n",
        "\n",
        "High Votes: movies with vote counts above the median\n",
        "\n",
        "Low Votes: movies with vote counts at or below the median\n",
        "\n",
        "An independent samples t-test was then applied to compare the average gross revenue of these two groups.\n",
        "\n",
        "Results:\n",
        "\n",
        "T-statistic: 6.5969\n",
        "\n",
        "P-value: 0.0000\n",
        "\n",
        "Since the p-value is well below the significance threshold of 0.05, we reject the null hypothesis (H₀). This result indicates a statistically **significant relationship** between the **number of IMDb votes and a movie's box office revenue**. Movies with more audience engagement in the form of votes are more likely to perform better financially.\n",
        "\n"
      ],
      "metadata": {
        "id": "RX67feHGfN04"
      }
    },
    {
      "cell_type": "code",
      "source": [
        "df = pd.read_csv(\"IMDb___Gross_Dataset.csv\")\n"
      ],
      "metadata": {
        "id": "Bb9S_YQMnYm0"
      },
      "execution_count": 36,
      "outputs": []
    },
    {
      "cell_type": "code",
      "source": [
        "# Making the column to string type first\n",
        "df['numVotes'] = df['numVotes'].astype(str)\n",
        "\n",
        "# Remove dots and convert comma to dot\n",
        "df['numVotes'] = df['numVotes'].str.replace(\".\", \"\", regex=False).str.replace(\",\", \".\", regex=False)\n",
        "\n",
        "#Convert to float\n",
        "df['numVotes'] = pd.to_numeric(df['numVotes'], errors='coerce')\n"
      ],
      "metadata": {
        "id": "Y8LYOHTKoBBh"
      },
      "execution_count": 37,
      "outputs": []
    },
    {
      "cell_type": "code",
      "source": [
        "print(df['numVotes'].dtype)\n",
        "print(df['numVotes'].isnull().sum())\n",
        "print(df['numVotes'].describe())\n"
      ],
      "metadata": {
        "colab": {
          "base_uri": "https://localhost:8080/"
        },
        "id": "rh4wVSuSoDfR",
        "outputId": "1c21c426-0088-4549-ddd1-9009dc85db1e"
      },
      "execution_count": 38,
      "outputs": [
        {
          "output_type": "stream",
          "name": "stdout",
          "text": [
            "float64\n",
            "89\n",
            "count    3.230000e+02\n",
            "mean     5.254763e+05\n",
            "std      9.798540e+05\n",
            "min      1.900000e+02\n",
            "25%      9.620000e+03\n",
            "50%      8.669000e+04\n",
            "75%      6.902250e+05\n",
            "max      8.832450e+06\n",
            "Name: numVotes, dtype: float64\n"
          ]
        }
      ]
    },
    {
      "cell_type": "code",
      "source": [
        "# Convert 'numVotes' to string first (if needed), then clean\n",
        "df['numVotes'] = df['numVotes'].astype(str).str.replace(\".\", \"\", regex=False).str.replace(\",\", \".\", regex=False)\n",
        "\n",
        "# Convert to float\n",
        "df['numVotes'] = pd.to_numeric(df['numVotes'], errors='coerce')\n",
        "\n",
        "# removing na\n",
        "df = df.dropna(subset=['numVotes'])\n"
      ],
      "metadata": {
        "id": "wZEg7txcod8c"
      },
      "execution_count": 39,
      "outputs": []
    },
    {
      "cell_type": "code",
      "source": [
        "#Converting 'numVotes' and 'Gross' to numeric (in case they are still strings)\n",
        "df['numVotes'] = pd.to_numeric(df['numVotes'], errors='coerce')\n",
        "df['Gross'] = df['Gross'].str.replace(\".\", \"\", regex=False).str.replace(\",\", \".\", regex=False)\n",
        "df['Gross'] = pd.to_numeric(df['Gross'], errors='coerce')\n"
      ],
      "metadata": {
        "id": "UmOjP9uGpBKO"
      },
      "execution_count": 40,
      "outputs": []
    },
    {
      "cell_type": "code",
      "source": [
        "print(\"dtype of numVotes:\", df['numVotes'].dtype)\n",
        "print(\"dtype of Gross:\", df['Gross'].dtype)\n",
        "print(\"NaN in numVotes:\", df['numVotes'].isna().sum())\n",
        "print(\"NaN in Gross:\", df['Gross'].isna().sum())\n",
        "print(df[['numVotes', 'Gross']].head())\n"
      ],
      "metadata": {
        "colab": {
          "base_uri": "https://localhost:8080/"
        },
        "id": "PPL1rWgwpDgk",
        "outputId": "b5b773eb-1a5c-4141-c730-936a2792342a"
      },
      "execution_count": 41,
      "outputs": [
        {
          "output_type": "stream",
          "name": "stdout",
          "text": [
            "dtype of numVotes: float64\n",
            "dtype of Gross: float64\n",
            "NaN in numVotes: 0\n",
            "NaN in Gross: 0\n",
            "     numVotes         Gross\n",
            "0  60513000.0  1.445638e+09\n",
            "1  26719100.0  1.362034e+09\n",
            "2  88324500.0  9.724448e+08\n",
            "3  42609500.0  8.455558e+08\n",
            "4  13456800.0  7.048750e+08\n"
          ]
        }
      ]
    },
    {
      "cell_type": "code",
      "source": [
        "# Drop rows with missing or invalid values\n",
        "df = df.dropna(subset=['numVotes', 'Gross'])\n",
        "\n",
        "# Median grouping\n",
        "median_votes = df['numVotes'].median()\n",
        "df['VoteGroup'] = df['numVotes'].apply(lambda x: 'High Votes' if x > median_votes else 'Low Votes')\n",
        "\n",
        "# T-test\n",
        "from scipy.stats import ttest_ind\n",
        "high_votes = df[df['VoteGroup'] == 'High Votes']['Gross']\n",
        "low_votes = df[df['VoteGroup'] == 'Low Votes']['Gross']\n",
        "\n",
        "t_stat, p_value = ttest_ind(high_votes, low_votes, nan_policy='omit')\n",
        "\n",
        "print(\"T-statistic:\", round(t_stat, 4))\n",
        "print(\"P-value:\", round(p_value, 4))\n"
      ],
      "metadata": {
        "colab": {
          "base_uri": "https://localhost:8080/"
        },
        "id": "sokj2Tl_pIMN",
        "outputId": "97cd6283-9631-4b58-e84f-aaf93be37e5e"
      },
      "execution_count": 42,
      "outputs": [
        {
          "output_type": "stream",
          "name": "stdout",
          "text": [
            "T-statistic: 6.5969\n",
            "P-value: 0.0\n"
          ]
        }
      ]
    }
  ]
}