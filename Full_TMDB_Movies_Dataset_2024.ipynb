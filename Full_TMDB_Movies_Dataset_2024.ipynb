{
  "nbformat": 4,
  "nbformat_minor": 0,
  "metadata": {
    "colab": {
      "provenance": [],
      "authorship_tag": "ABX9TyMWFPi/ga+RfznHla0eRMNl",
      "include_colab_link": true
    },
    "kernelspec": {
      "name": "python3",
      "display_name": "Python 3"
    },
    "language_info": {
      "name": "python"
    }
  },
  "cells": [
    {
      "cell_type": "markdown",
      "metadata": {
        "id": "view-in-github",
        "colab_type": "text"
      },
      "source": [
        "<a href=\"https://colab.research.google.com/github/zeylulbalci/dsa210project/blob/main/Full_TMDB_Movies_Dataset_2024.ipynb\" target=\"_parent\"><img src=\"https://colab.research.google.com/assets/colab-badge.svg\" alt=\"Open In Colab\"/></a>"
      ]
    },
    {
      "cell_type": "code",
      "execution_count": 1,
      "metadata": {
        "id": "2TInvABlikc_",
        "colab": {
          "base_uri": "https://localhost:8080/"
        },
        "outputId": "a9038f44-9bb8-4d94-936d-7775c627304a"
      },
      "outputs": [
        {
          "output_type": "stream",
          "name": "stderr",
          "text": [
            "<ipython-input-1-4da5be5e1d7b>:30: SettingWithCopyWarning: \n",
            "A value is trying to be set on a copy of a slice from a DataFrame.\n",
            "Try using .loc[row_indexer,col_indexer] = value instead\n",
            "\n",
            "See the caveats in the documentation: https://pandas.pydata.org/pandas-docs/stable/user_guide/indexing.html#returning-a-view-versus-a-copy\n",
            "  chunk['release_year'] = chunk['release_date'].dt.year.astype(int)\n",
            "<ipython-input-1-4da5be5e1d7b>:30: SettingWithCopyWarning: \n",
            "A value is trying to be set on a copy of a slice from a DataFrame.\n",
            "Try using .loc[row_indexer,col_indexer] = value instead\n",
            "\n",
            "See the caveats in the documentation: https://pandas.pydata.org/pandas-docs/stable/user_guide/indexing.html#returning-a-view-versus-a-copy\n",
            "  chunk['release_year'] = chunk['release_date'].dt.year.astype(int)\n",
            "<ipython-input-1-4da5be5e1d7b>:30: SettingWithCopyWarning: \n",
            "A value is trying to be set on a copy of a slice from a DataFrame.\n",
            "Try using .loc[row_indexer,col_indexer] = value instead\n",
            "\n",
            "See the caveats in the documentation: https://pandas.pydata.org/pandas-docs/stable/user_guide/indexing.html#returning-a-view-versus-a-copy\n",
            "  chunk['release_year'] = chunk['release_date'].dt.year.astype(int)\n",
            "<ipython-input-1-4da5be5e1d7b>:30: SettingWithCopyWarning: \n",
            "A value is trying to be set on a copy of a slice from a DataFrame.\n",
            "Try using .loc[row_indexer,col_indexer] = value instead\n",
            "\n",
            "See the caveats in the documentation: https://pandas.pydata.org/pandas-docs/stable/user_guide/indexing.html#returning-a-view-versus-a-copy\n",
            "  chunk['release_year'] = chunk['release_date'].dt.year.astype(int)\n",
            "<ipython-input-1-4da5be5e1d7b>:30: SettingWithCopyWarning: \n",
            "A value is trying to be set on a copy of a slice from a DataFrame.\n",
            "Try using .loc[row_indexer,col_indexer] = value instead\n",
            "\n",
            "See the caveats in the documentation: https://pandas.pydata.org/pandas-docs/stable/user_guide/indexing.html#returning-a-view-versus-a-copy\n",
            "  chunk['release_year'] = chunk['release_date'].dt.year.astype(int)\n",
            "<ipython-input-1-4da5be5e1d7b>:30: SettingWithCopyWarning: \n",
            "A value is trying to be set on a copy of a slice from a DataFrame.\n",
            "Try using .loc[row_indexer,col_indexer] = value instead\n",
            "\n",
            "See the caveats in the documentation: https://pandas.pydata.org/pandas-docs/stable/user_guide/indexing.html#returning-a-view-versus-a-copy\n",
            "  chunk['release_year'] = chunk['release_date'].dt.year.astype(int)\n",
            "<ipython-input-1-4da5be5e1d7b>:30: SettingWithCopyWarning: \n",
            "A value is trying to be set on a copy of a slice from a DataFrame.\n",
            "Try using .loc[row_indexer,col_indexer] = value instead\n",
            "\n",
            "See the caveats in the documentation: https://pandas.pydata.org/pandas-docs/stable/user_guide/indexing.html#returning-a-view-versus-a-copy\n",
            "  chunk['release_year'] = chunk['release_date'].dt.year.astype(int)\n",
            "<ipython-input-1-4da5be5e1d7b>:30: SettingWithCopyWarning: \n",
            "A value is trying to be set on a copy of a slice from a DataFrame.\n",
            "Try using .loc[row_indexer,col_indexer] = value instead\n",
            "\n",
            "See the caveats in the documentation: https://pandas.pydata.org/pandas-docs/stable/user_guide/indexing.html#returning-a-view-versus-a-copy\n",
            "  chunk['release_year'] = chunk['release_date'].dt.year.astype(int)\n",
            "<ipython-input-1-4da5be5e1d7b>:30: SettingWithCopyWarning: \n",
            "A value is trying to be set on a copy of a slice from a DataFrame.\n",
            "Try using .loc[row_indexer,col_indexer] = value instead\n",
            "\n",
            "See the caveats in the documentation: https://pandas.pydata.org/pandas-docs/stable/user_guide/indexing.html#returning-a-view-versus-a-copy\n",
            "  chunk['release_year'] = chunk['release_date'].dt.year.astype(int)\n",
            "<ipython-input-1-4da5be5e1d7b>:30: SettingWithCopyWarning: \n",
            "A value is trying to be set on a copy of a slice from a DataFrame.\n",
            "Try using .loc[row_indexer,col_indexer] = value instead\n",
            "\n",
            "See the caveats in the documentation: https://pandas.pydata.org/pandas-docs/stable/user_guide/indexing.html#returning-a-view-versus-a-copy\n",
            "  chunk['release_year'] = chunk['release_date'].dt.year.astype(int)\n",
            "<ipython-input-1-4da5be5e1d7b>:30: SettingWithCopyWarning: \n",
            "A value is trying to be set on a copy of a slice from a DataFrame.\n",
            "Try using .loc[row_indexer,col_indexer] = value instead\n",
            "\n",
            "See the caveats in the documentation: https://pandas.pydata.org/pandas-docs/stable/user_guide/indexing.html#returning-a-view-versus-a-copy\n",
            "  chunk['release_year'] = chunk['release_date'].dt.year.astype(int)\n",
            "<ipython-input-1-4da5be5e1d7b>:30: SettingWithCopyWarning: \n",
            "A value is trying to be set on a copy of a slice from a DataFrame.\n",
            "Try using .loc[row_indexer,col_indexer] = value instead\n",
            "\n",
            "See the caveats in the documentation: https://pandas.pydata.org/pandas-docs/stable/user_guide/indexing.html#returning-a-view-versus-a-copy\n",
            "  chunk['release_year'] = chunk['release_date'].dt.year.astype(int)\n"
          ]
        },
        {
          "output_type": "stream",
          "name": "stdout",
          "text": [
            "✅ Done! Enriched dataset created with 280 matched rows.\n"
          ]
        }
      ],
      "source": [
        "import pandas as pd\n",
        "\n",
        "# Step 1: Load your main dataset\n",
        "df_main = pd.read_csv(\"IMDb___Gross_Dataset.csv\")\n",
        "\n",
        "# Clean titles and ensure year is numeric\n",
        "df_main['clean_title'] = df_main['Movie'].astype(str).str.lower().str.replace(r'[^\\w\\s]', '', regex=True).str.strip()\n",
        "df_main['Year'] = pd.to_numeric(df_main['Year'], errors='coerce')\n",
        "\n",
        "# Step 2: Define columns to keep from TMDB dataset\n",
        "columns_to_keep = ['title', 'release_date', 'budget', 'revenue', 'runtime', 'genres', 'popularity', 'vote_average', 'vote_count']\n",
        "chunksize = 100_000\n",
        "matched_rows = []\n",
        "\n",
        "# Step 3: Read TMDB in chunks (safe read with error skipping)\n",
        "for chunk in pd.read_csv(\n",
        "    \"TMDB_movie_dataset_v11.csv\",\n",
        "    usecols=columns_to_keep,\n",
        "    chunksize=chunksize,\n",
        "    encoding='utf-8',\n",
        "    on_bad_lines='skip',\n",
        "    low_memory=False\n",
        "):\n",
        "    chunk = chunk.copy()  # Avoid SettingWithCopyWarning\n",
        "\n",
        "    # Preprocess TMDB chunk\n",
        "    chunk['clean_title'] = chunk['title'].astype(str).str.lower().str.replace(r'[^\\w\\s]', '', regex=True).str.strip()\n",
        "    chunk['release_date'] = pd.to_datetime(chunk['release_date'], errors='coerce')\n",
        "    chunk = chunk.dropna(subset=['release_date'])\n",
        "    chunk['release_year'] = chunk['release_date'].dt.year.astype(int)\n",
        "\n",
        "    # Merge on clean_title + year\n",
        "    merged = chunk.merge(df_main, how='inner', left_on=['clean_title', 'release_year'], right_on=['clean_title', 'Year'])\n",
        "    matched_rows.append(merged)\n",
        "\n",
        "# Step 4: Concatenate all matched chunks\n",
        "df_matched = pd.concat(matched_rows, ignore_index=True)\n",
        "\n",
        "# Step 5: Select and rename relevant columns\n",
        "df_final = df_matched[[\n",
        "    'Movie', 'Year', 'budget', 'revenue', 'runtime', 'genres', 'popularity',\n",
        "    'vote_average', 'vote_count', 'Views', 'Likes', 'Comments',\n",
        "    'IMDb_Rating', 'numVotes', 'Gross'\n",
        "]]\n",
        "\n",
        "# Step 6: Save final enriched dataset\n",
        "df_final.to_csv(\"Enriched_Movie_Dataset.csv\", index=False)\n",
        "print(\"✅ Done! Enriched dataset created with\", df_final.shape[0], \"matched rows.\")\n"
      ]
    }
  ]
}