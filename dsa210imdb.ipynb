{
  "nbformat": 4,
  "nbformat_minor": 0,
  "metadata": {
    "colab": {
      "provenance": [],
      "authorship_tag": "ABX9TyM9/hyEHht8gusWlh6UVEoN",
      "include_colab_link": true
    },
    "kernelspec": {
      "name": "python3",
      "display_name": "Python 3"
    },
    "language_info": {
      "name": "python"
    }
  },
  "cells": [
    {
      "cell_type": "markdown",
      "metadata": {
        "id": "view-in-github",
        "colab_type": "text"
      },
      "source": [
        "<a href=\"https://colab.research.google.com/github/zeylulbalci/dsa210project/blob/main/dsa210imdb.ipynb\" target=\"_parent\"><img src=\"https://colab.research.google.com/assets/colab-badge.svg\" alt=\"Open In Colab\"/></a>"
      ]
    },
    {
      "cell_type": "code",
      "execution_count": null,
      "metadata": {
        "id": "5tqPQdWU_9Vw"
      },
      "outputs": [],
      "source": [
        "#134a5ab9"
      ]
    },
    {
      "cell_type": "code",
      "source": [
        "import pandas as pd\n",
        "\n",
        "#read all IMDb datasets that I got from Imdb API\n",
        "basics = pd.read_csv(\"title.basics.tsv\", sep=\"\\t\", dtype=str, na_values='\\\\N')\n",
        "ratings = pd.read_csv(\"title.ratings.tsv\", sep=\"\\t\", dtype=str)\n",
        "\n",
        "# just movies\n",
        "movies = basics[basics['titleType'] == 'movie'].copy()\n",
        "movies = movies[['tconst', 'primaryTitle', 'startYear']]\n",
        "\n",
        "#rearrange year of movies\n",
        "movies['startYear'] = pd.to_numeric(movies['startYear'], errors='coerce')\n",
        "\n",
        "#merge ratings\n",
        "movies = movies.merge(ratings, on='tconst', how='left')\n",
        "\n",
        "#read my csv file\n",
        "df = pd.read_csv(\"finalyoutubedata.csv\")\n",
        "\n",
        "#normalize for match\n",
        "df['Movie_key'] = df['Movie'].str.lower().str.replace(r\"[^\\w\\s]\", \"\", regex=True).str.strip()\n",
        "movies['Title_key'] = movies['primaryTitle'].str.lower().str.replace(r\"[^\\w\\s]\", \"\", regex=True).str.strip()\n",
        "\n",
        "df['Year'] = pd.to_numeric(df['Year'], errors='coerce').astype('Int64')\n",
        "movies['startYear'] = pd.to_numeric(movies['startYear'], errors='coerce').astype('Int64')\n",
        "\n",
        "\n",
        "#matching\n",
        "df = df.merge(movies, left_on=['Movie_key', 'Year'], right_on=['Title_key', 'startYear'], how='left')\n",
        "\n",
        "#rename column rating\n",
        "df = df.rename(columns={\"averageRating\": \"IMDb_Rating\"})\n",
        "\n",
        "#drop unnecessary columns\n",
        "df = df.drop(columns=['tconst', 'primaryTitle', 'startYear', 'Title_key', 'Movie_key'])\n",
        "\n",
        "#save\n",
        "df.to_csv(\"final_with_imdb.csv\", index=False)\n",
        "\n",
        "#download:\n",
        "try:\n",
        "    from google.colab import files\n",
        "    files.download(\"final_with_imdb.csv\")\n",
        "except:\n",
        "    print(\"✅ Dosya kaydedildi: final_with_imdb.csv\")"
      ],
      "metadata": {
        "colab": {
          "base_uri": "https://localhost:8080/",
          "height": 17
        },
        "id": "T57ggOGYHzeI",
        "outputId": "c06e0477-9143-4c62-d21f-6d08dba1aaf0"
      },
      "execution_count": 10,
      "outputs": [
        {
          "output_type": "display_data",
          "data": {
            "text/plain": [
              "<IPython.core.display.Javascript object>"
            ],
            "application/javascript": [
              "\n",
              "    async function download(id, filename, size) {\n",
              "      if (!google.colab.kernel.accessAllowed) {\n",
              "        return;\n",
              "      }\n",
              "      const div = document.createElement('div');\n",
              "      const label = document.createElement('label');\n",
              "      label.textContent = `Downloading \"${filename}\": `;\n",
              "      div.appendChild(label);\n",
              "      const progress = document.createElement('progress');\n",
              "      progress.max = size;\n",
              "      div.appendChild(progress);\n",
              "      document.body.appendChild(div);\n",
              "\n",
              "      const buffers = [];\n",
              "      let downloaded = 0;\n",
              "\n",
              "      const channel = await google.colab.kernel.comms.open(id);\n",
              "      // Send a message to notify the kernel that we're ready.\n",
              "      channel.send({})\n",
              "\n",
              "      for await (const message of channel.messages) {\n",
              "        // Send a message to notify the kernel that we're ready.\n",
              "        channel.send({})\n",
              "        if (message.buffers) {\n",
              "          for (const buffer of message.buffers) {\n",
              "            buffers.push(buffer);\n",
              "            downloaded += buffer.byteLength;\n",
              "            progress.value = downloaded;\n",
              "          }\n",
              "        }\n",
              "      }\n",
              "      const blob = new Blob(buffers, {type: 'application/binary'});\n",
              "      const a = document.createElement('a');\n",
              "      a.href = window.URL.createObjectURL(blob);\n",
              "      a.download = filename;\n",
              "      div.appendChild(a);\n",
              "      a.click();\n",
              "      div.remove();\n",
              "    }\n",
              "  "
            ]
          },
          "metadata": {}
        },
        {
          "output_type": "display_data",
          "data": {
            "text/plain": [
              "<IPython.core.display.Javascript object>"
            ],
            "application/javascript": [
              "download(\"download_1bcca399-3ded-4007-9db6-5697ee0303f9\", \"final_with_imdb.csv\", 27073)"
            ]
          },
          "metadata": {}
        }
      ]
    }
  ]
}